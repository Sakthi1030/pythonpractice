{
 "cells": [
  {
   "cell_type": "code",
   "execution_count": 9,
   "id": "cb588d36",
   "metadata": {},
   "outputs": [
    {
     "name": "stdout",
     "output_type": "stream",
     "text": [
      "enter a palindrome :malayalam\n",
      "palin\n"
     ]
    }
   ],
   "source": [
    "a= str(input(\"enter a palindrome :\"))\n",
    "if a[0:] == a[::-1]:\n",
    "    print(\"palin\")\n",
    "else:\n",
    "    print(\"no palim\")"
   ]
  },
  {
   "cell_type": "code",
   "execution_count": 55,
   "id": "ee3b7357",
   "metadata": {},
   "outputs": [
    {
     "name": "stdout",
     "output_type": "stream",
     "text": [
      "3  5  \n",
      "6  9  10  \n",
      "12  15  15  \n",
      "18  20  \n",
      "21  24  25  \n",
      "27  30  30  \n",
      "33  35  \n",
      "36  39  40  \n",
      "42  45  45  \n",
      "48  50  \n",
      "51  54  55  \n",
      "57  60  60  \n",
      "63  65  \n",
      "66  69  70  \n",
      "72  75  75  \n",
      "78  80  \n",
      "81  84  85  \n",
      "87  90  90  \n",
      "93  95  \n",
      "96  99  "
     ]
    }
   ],
   "source": [
    "for i in range(1, 100):\n",
    "    if i % 3 == 0:\n",
    "        print(i, end='  ')\n",
    "    if i % 5 == 0:\n",
    "        print(i, end='  ')\n",
    "        print()  # This line adds a newline after printing the number divisible by 5\n"
   ]
  },
  {
   "cell_type": "code",
   "execution_count": 63,
   "id": "215844f5",
   "metadata": {
    "scrolled": true
   },
   "outputs": [
    {
     "name": "stdout",
     "output_type": "stream",
     "text": [
      "**Fizz** 3  **Buzz** 5  **Fizz** 6  **Fizz** 9  **Buzz** 10  **Fizz** 12  **FizzBuzz** 15  **Fizz** 18  **Buzz** 20  **Fizz** 21  **Fizz** 24  **Buzz** 25  **Fizz** 27  **FizzBuzz** 30  **Fizz** 33  **Buzz** 35  **Fizz** 36  **Fizz** 39  **Buzz** 40  **Fizz** 42  **FizzBuzz** 45  **Fizz** 48  **Buzz** 50  **Fizz** 51  **Fizz** 54  **Buzz** 55  **Fizz** 57  **FizzBuzz** 60  **Fizz** 63  **Buzz** 65  **Fizz** 66  **Fizz** 69  **Buzz** 70  **Fizz** 72  **FizzBuzz** 75  **Fizz** 78  **Buzz** 80  **Fizz** 81  **Fizz** 84  **Buzz** 85  **Fizz** 87  **FizzBuzz** 90  **Fizz** 93  **Buzz** 95  **Fizz** 96  **Fizz** 99  **Buzz** 100  "
     ]
    }
   ],
   "source": [
    "\n",
    "    for i in range(1, 101):\n",
    "        if i % 3 == 0 and i % 5 == 0:\n",
    "            print(\"**FizzBuzz**\",i, end='  ')\n",
    "        elif i % 3 == 0:\n",
    "            print(\"**Fizz**\",i,end='  ')\n",
    "        elif i % 5 == 0:\n",
    "             print(\"**Buzz**\",i,end='  ')\n",
    "       \n"
   ]
  },
  {
   "cell_type": "code",
   "execution_count": 72,
   "id": "b3b55e12",
   "metadata": {},
   "outputs": [
    {
     "name": "stdout",
     "output_type": "stream",
     "text": [
      "fizzbuzz= 15  30  45  60  75  90  \n",
      "fizz= 3  6  9  12  15  18  21  24  27  30  33  36  39  42  45  48  51  54  57  60  63  66  69  72  75  78  81  84  87  90  93  96  99  \n",
      "buzz= 5  10  15  20  25  30  35  40  45  50  55  60  65  70  75  80  85  90  95  100  "
     ]
    }
   ],
   "source": [
    "    print(\"fizzbuzz=\",end=\" \")\n",
    "    for i in range(1, 101):\n",
    "        if i % 3 == 0 and i % 5 == 0:\n",
    "            print(i, end='  ')\n",
    "    print(\"\\nfizz=\",end=\" \")\n",
    "    for i in range(1, 101):\n",
    "        if i % 3 == 0:\n",
    "            print(i,end='  ')\n",
    "    print(\"\\nbuzz=\",end=\" \")\n",
    "    for i in range(1, 101):\n",
    "        if i % 5 == 0:\n",
    "             print(i,end='  ')\n",
    "       \n"
   ]
  },
  {
   "cell_type": "code",
   "execution_count": 92,
   "id": "0ee9cd95",
   "metadata": {
    "scrolled": true
   },
   "outputs": [
    {
     "name": "stdout",
     "output_type": "stream",
     "text": [
      "enter the number6\n",
      "720\n"
     ]
    }
   ],
   "source": [
    "n = int(input(\"enter the number\"))\n",
    "res=1\n",
    "for i in range(1,n+1):\n",
    "              res*= i\n",
    "print(res)"
   ]
  },
  {
   "cell_type": "code",
   "execution_count": 100,
   "id": "24403dd3",
   "metadata": {},
   "outputs": [
    {
     "name": "stdout",
     "output_type": "stream",
     "text": [
      "1\n",
      "3\n",
      "6\n",
      "10\n"
     ]
    }
   ],
   "source": [
    "n=5\n",
    "res=0\n",
    "curr=1\n",
    "for i in range(0,n):\n",
    "    res += i\n",
    "    print(res)"
   ]
  },
  {
   "cell_type": "code",
   "execution_count": 10,
   "id": "fac536ae",
   "metadata": {},
   "outputs": [
    {
     "name": "stdout",
     "output_type": "stream",
     "text": [
      "6\n",
      "0\n",
      "1\n",
      "1 2 3 5 8 13 21 "
     ]
    }
   ],
   "source": [
    "n= int(input(\"\"))\n",
    "f=0\n",
    "s=1\n",
    "count=0\n",
    "print(f)\n",
    "print(s)\n",
    "while count<=n:\n",
    "    t=f+s\n",
    "    print(t,end=\" \")\n",
    "    f=s\n",
    "    s=t\n",
    "    count+=1"
   ]
  },
  {
   "cell_type": "code",
   "execution_count": 13,
   "id": "4651a21a",
   "metadata": {
    "scrolled": true
   },
   "outputs": [
    {
     "name": "stdout",
     "output_type": "stream",
     "text": [
      "6\n",
      "0\n",
      "1\n",
      "1 2 3 5 8 13 21 "
     ]
    }
   ],
   "source": [
    "n= int(input(\"\"))\n",
    "f=0\n",
    "s=1\n",
    "print(f)\n",
    "print(s)\n",
    "for i in range(0,n+1):\n",
    "    t=f+s\n",
    "    print(t,end=\" \")\n",
    "    f=s\n",
    "    s=t\n"
   ]
  },
  {
   "cell_type": "code",
   "execution_count": 14,
   "id": "683068dc",
   "metadata": {
    "scrolled": true
   },
   "outputs": [
    {
     "name": "stdout",
     "output_type": "stream",
     "text": [
      "entersakthi\n",
      "ihtkas\n"
     ]
    }
   ],
   "source": [
    "#reverse\n",
    "a = str(input(\"enter\"))\n",
    "print(a[::-1])"
   ]
  },
  {
   "cell_type": "code",
   "execution_count": 18,
   "id": "46bccb78",
   "metadata": {},
   "outputs": [
    {
     "name": "stdout",
     "output_type": "stream",
     "text": [
      "arun\n",
      "nura\n"
     ]
    },
    {
     "ename": "TypeError",
     "evalue": "'bool' object is not callable",
     "output_type": "error",
     "traceback": [
      "\u001b[1;31m---------------------------------------------------------------------------\u001b[0m",
      "\u001b[1;31mTypeError\u001b[0m                                 Traceback (most recent call last)",
      "Cell \u001b[1;32mIn[18], line 4\u001b[0m\n\u001b[0;32m      2\u001b[0m b \u001b[38;5;241m=\u001b[39m \u001b[38;5;28mstr\u001b[39m(\u001b[38;5;28minput\u001b[39m(\u001b[38;5;124m\"\u001b[39m\u001b[38;5;124m\"\u001b[39m))\n\u001b[0;32m      3\u001b[0m sort \u001b[38;5;241m=\u001b[39m \u001b[38;5;28;01mTrue\u001b[39;00m\n\u001b[1;32m----> 4\u001b[0m \u001b[38;5;28;01mif\u001b[39;00m sort(a) \u001b[38;5;241m==\u001b[39m sort(b) :\n\u001b[0;32m      5\u001b[0m     \u001b[38;5;28mprint\u001b[39m(\u001b[38;5;124m\"\u001b[39m\u001b[38;5;124mtrue\u001b[39m\u001b[38;5;124m\"\u001b[39m)\n\u001b[0;32m      6\u001b[0m \u001b[38;5;28;01melse\u001b[39;00m:\n",
      "\u001b[1;31mTypeError\u001b[0m: 'bool' object is not callable"
     ]
    }
   ],
   "source": [
    "#Anagrams\n",
    "a=str(input(\"\"))\n",
    "b = str(input(\"\"))\n",
    "sort = True\n",
    "if sort(a) == sort(b) :\n",
    "    print(\"true\")\n",
    "else:\n",
    "    print(\"false\")"
   ]
  }
 ],
 "metadata": {
  "kernelspec": {
   "display_name": "Python 3 (ipykernel)",
   "language": "python",
   "name": "python3"
  },
  "language_info": {
   "codemirror_mode": {
    "name": "ipython",
    "version": 3
   },
   "file_extension": ".py",
   "mimetype": "text/x-python",
   "name": "python",
   "nbconvert_exporter": "python",
   "pygments_lexer": "ipython3",
   "version": "3.11.3"
  }
 },
 "nbformat": 4,
 "nbformat_minor": 5
}
