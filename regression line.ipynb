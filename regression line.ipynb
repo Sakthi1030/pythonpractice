{
 "cells": [
  {
   "cell_type": "code",
   "execution_count": 2,
   "id": "ea9a9fe2",
   "metadata": {
    "scrolled": true
   },
   "outputs": [
    {
     "name": "stdout",
     "output_type": "stream",
     "text": [
      "Enter the value of n:10\n",
      "Enter x value: 72\n",
      "Enter x value: 85\n",
      "Enter x value: 91\n",
      "Enter x value: 85\n",
      "Enter x value: 91\n",
      "Enter x value: 89\n",
      "Enter x value: 84\n",
      "Enter x value: 87\n",
      "Enter x value: 75\n",
      "Enter x value: 77\n",
      "x values: [72, 85, 91, 85, 91, 89, 84, 87, 75, 77]\n",
      "Enter y value: 92\n",
      "Enter y value: 76\n",
      "Enter y value: 93\n",
      "Enter y value: 91\n",
      "Enter y value: 93\n",
      "Enter y value: 95\n",
      "Enter y value: 88\n",
      "Enter y value: 91\n",
      "Enter y value: 80\n",
      "Enter y value: 81\n",
      "y values: [92, 76, 93, 91, 93, 95, 88, 91, 80, 81]\n",
      "Covariance (bxy): 178.0\n",
      "bxy is: 0.4379921259842519\n",
      "byx is 0.4564102564102564\n",
      " x on y: -3.0659448818897634\n",
      "y on x: -3.0123076923076897\n"
     ]
    }
   ],
   "source": [
    "n = int(input(\"Enter the value of n:\"))\n",
    "x = []\n",
    "y = []\n",
    "\n",
    "for i in range(n):\n",
    "    a = int(input(\"Enter x value: \"))\n",
    "    x.append(a)\n",
    "\n",
    "print(\"x values:\", x)\n",
    "\n",
    "for i in range(n):\n",
    "    b = int(input(\"Enter y value: \"))\n",
    "    y.append(b)\n",
    "\n",
    "print(\"y values:\", y)\n",
    "\n",
    "x_bar = sum(x) / len(x)\n",
    "y_bar = sum(y) / len(y)\n",
    "\n",
    "\n",
    "cov_xy = sum((x[i] - x_bar) * (y[i] - y_bar) for i in range( n)) \n",
    "bxy = cov_xy/sum((x[i]- x_bar)**2 for i in range(n))\n",
    "byx = cov_xy/sum((y[i]- y_bar)**2 for i in range(n))\n",
    "xony = bxy*(y[i]- y_bar )\n",
    "yonx = byx*(x[i]- x_bar )\n",
    "\n",
    "\n",
    "print('Covariance (bxy):',cov_xy)\n",
    "print('bxy is:',bxy)\n",
    "print('byx is',byx)\n",
    "print(' x on y:',xony)\n",
    "print('y on x:',yonx)\n",
    "#y-76, 92, 93, 91, 93, 95, 88, 91, 80, 81\n",
    "#x-72, 85, 91, 85, 91, 89, 84, 87, 75, 77"
   ]
  },
  {
   "cell_type": "code",
   "execution_count": 3,
   "id": "15320083",
   "metadata": {},
   "outputs": [
    {
     "name": "stdout",
     "output_type": "stream",
     "text": [
      "enter:78\n",
      "85.44410256410256\n"
     ]
    }
   ],
   "source": [
    "\n",
    "ex=int(input(\"enter:\"))\n",
    "yy= byx*(ex- x_bar) + y_bar\n",
    "\n",
    "print(yy)"
   ]
  }
 ],
 "metadata": {
  "kernelspec": {
   "display_name": "Python 3 (ipykernel)",
   "language": "python",
   "name": "python3"
  },
  "language_info": {
   "codemirror_mode": {
    "name": "ipython",
    "version": 3
   },
   "file_extension": ".py",
   "mimetype": "text/x-python",
   "name": "python",
   "nbconvert_exporter": "python",
   "pygments_lexer": "ipython3",
   "version": "3.11.3"
  }
 },
 "nbformat": 4,
 "nbformat_minor": 5
}
